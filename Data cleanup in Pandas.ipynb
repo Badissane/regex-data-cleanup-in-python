{
 "cells": [
  {
   "cell_type": "markdown",
   "metadata": {},
   "source": [
    "# Regular expressions for data cleanup\n",
    "\n",
    "If data isn't formatted in a usable way, it doesn't do us any good. That's where cleanup comes in.\n",
    "\n",
    "The most time-consuming part of most analysis is getting data into a useful format. By comparison, performing the actual interrogations is much less time-consuming.\n",
    "\n",
    "In the first section, I'll cover the difference between data that looks right to humans and data that the machine understands.\n",
    "\n",
    "In the second section, I'll use regular expressions to develop a function to convert height strings to inches, with an emphasis on the process of developing code.\n",
    "\n",
    "In the third part, I'll demonstrate how to apply the conversion function to the data."
   ]
  },
  {
   "cell_type": "markdown",
   "metadata": {},
   "source": [
    "# Part 1: Looks good to me, HAL, I don't know what you're complaining about\n",
    "\n",
    "The goal for us is to have data in a format we can use. So we might want to convert strings to numbers, but why is that important?\n",
    "\n",
    "In python, 2 is number and \"2\" is a character. They are different types of data, but we can still perform math on them:\n"
   ]
  },
  {
   "cell_type": "code",
   "execution_count": 8,
   "metadata": {
    "collapsed": false
   },
   "outputs": [
    {
     "name": "stdout",
     "output_type": "stream",
     "text": [
      "22\n",
      "4\n",
      "Any text. Any text. \n"
     ]
    }
   ],
   "source": [
    "two_character = \"2\"\n",
    "two_number = 2\n",
    "\n",
    "def double(x):\n",
    "    return 2 * x\n",
    "\n",
    "print double(two_character)\n",
    "print double(two_number)\n",
    "print double(\"Any text. \")"
   ]
  },
  {
   "cell_type": "markdown",
   "metadata": {},
   "source": [
    "### \"Expected\" behavior\n",
    "\n",
    "The above example demonstrates what might be considered unexpected behavior:\n",
    "\n",
    "    \"2\" * 2 = \"22\" \n",
    "    2 * 2 = 4\n",
    "    \n",
    "That's because Python's binary + and * operators work on both strings and numbers as long as both operands are the same type. But if you try to add a string and a number together, you get an error:"
   ]
  },
  {
   "cell_type": "code",
   "execution_count": 9,
   "metadata": {
    "collapsed": false
   },
   "outputs": [
    {
     "ename": "TypeError",
     "evalue": "unsupported operand type(s) for +: 'int' and 'str'",
     "output_type": "error",
     "traceback": [
      "\u001b[0;31m---------------------------------------------------------------------------\u001b[0m",
      "\u001b[0;31mTypeError\u001b[0m                                 Traceback (most recent call last)",
      "\u001b[0;32m<ipython-input-9-1757134d50a6>\u001b[0m in \u001b[0;36m<module>\u001b[0;34m()\u001b[0m\n\u001b[0;32m----> 1\u001b[0;31m \u001b[0;32mprint\u001b[0m \u001b[0;36m2\u001b[0m \u001b[0;34m+\u001b[0m \u001b[0;34m\"2\"\u001b[0m\u001b[0;34m\u001b[0m\u001b[0m\n\u001b[0m",
      "\u001b[0;31mTypeError\u001b[0m: unsupported operand type(s) for +: 'int' and 'str'"
     ]
    }
   ],
   "source": [
    "print 2 + \"2\""
   ]
  },
  {
   "cell_type": "markdown",
   "metadata": {},
   "source": [
    "This might not seem like a problem, and in fact, as long as you understand this behavior, it's not. It's just a design decision the developers of Python made. They could have made separate operators for string concatenation and addition, but they didn't.\n",
    "\n",
    "So when could this be a problem?\n",
    "\n",
    "Let's say you import a spreadsheet and it ends up like it's full of numbers:"
   ]
  },
  {
   "cell_type": "code",
   "execution_count": 32,
   "metadata": {
    "collapsed": false
   },
   "outputs": [
    {
     "data": {
      "text/html": [
       "<div>\n",
       "<table border=\"1\" class=\"dataframe\">\n",
       "  <thead>\n",
       "    <tr style=\"text-align: right;\">\n",
       "      <th></th>\n",
       "      <th>0</th>\n",
       "      <th>1</th>\n",
       "      <th>2</th>\n",
       "      <th>3</th>\n",
       "      <th>4</th>\n",
       "    </tr>\n",
       "  </thead>\n",
       "  <tbody>\n",
       "    <tr>\n",
       "      <th>CT</th>\n",
       "      <td>1</td>\n",
       "      <td>2</td>\n",
       "      <td>3</td>\n",
       "      <td>4</td>\n",
       "      <td>16</td>\n",
       "    </tr>\n",
       "    <tr>\n",
       "      <th>NY</th>\n",
       "      <td>1</td>\n",
       "      <td>2</td>\n",
       "      <td>3</td>\n",
       "      <td>4</td>\n",
       "      <td>F</td>\n",
       "    </tr>\n",
       "  </tbody>\n",
       "</table>\n",
       "</div>"
      ],
      "text/plain": [
       "    0  1  2  3   4\n",
       "CT  1  2  3  4  16\n",
       "NY  1  2  3  4   F"
      ]
     },
     "execution_count": 32,
     "metadata": {},
     "output_type": "execute_result"
    }
   ],
   "source": [
    "import pandas as pd\n",
    "\n",
    "df = pd.DataFrame([[1,2,3,4,16],[\"1\",\"2\",\"3\",\"4\",\"F\"]]\n",
    "                  ,index=[\"CT\",\"NY\"])\n",
    "df"
   ]
  },
  {
   "cell_type": "markdown",
   "metadata": {},
   "source": [
    "Looks good, right? OK, let's try and use it for data analysis. Let's multiply every value by 10. (Don't worry about that weird lambda thing. If you want to learn more about it check out this article (http://www.secnetix.de/olli/Python/lambda_functions.hawk) also linked to in the further reading section.)"
   ]
  },
  {
   "cell_type": "code",
   "execution_count": 33,
   "metadata": {
    "collapsed": false
   },
   "outputs": [
    {
     "data": {
      "text/html": [
       "<div>\n",
       "<table border=\"1\" class=\"dataframe\">\n",
       "  <thead>\n",
       "    <tr style=\"text-align: right;\">\n",
       "      <th></th>\n",
       "      <th>0</th>\n",
       "      <th>1</th>\n",
       "      <th>2</th>\n",
       "      <th>3</th>\n",
       "      <th>4</th>\n",
       "    </tr>\n",
       "  </thead>\n",
       "  <tbody>\n",
       "    <tr>\n",
       "      <th>CT</th>\n",
       "      <td>10</td>\n",
       "      <td>20</td>\n",
       "      <td>30</td>\n",
       "      <td>40</td>\n",
       "      <td>160</td>\n",
       "    </tr>\n",
       "    <tr>\n",
       "      <th>NY</th>\n",
       "      <td>1111111111</td>\n",
       "      <td>2222222222</td>\n",
       "      <td>3333333333</td>\n",
       "      <td>4444444444</td>\n",
       "      <td>FFFFFFFFFF</td>\n",
       "    </tr>\n",
       "  </tbody>\n",
       "</table>\n",
       "</div>"
      ],
      "text/plain": [
       "             0           1           2           3           4\n",
       "CT          10          20          30          40         160\n",
       "NY  1111111111  2222222222  3333333333  4444444444  FFFFFFFFFF"
      ]
     },
     "execution_count": 33,
     "metadata": {},
     "output_type": "execute_result"
    }
   ],
   "source": [
    "df.apply(lambda x : x * 10)"
   ]
  },
  {
   "cell_type": "markdown",
   "metadata": {},
   "source": [
    "### Uh oh!\n",
    "\n",
    "Even though these numeric characters in the \"NY\" row look like numbers, they aren't. In this case we could spot the problem results by eye. But what if the results looked more legit?"
   ]
  },
  {
   "cell_type": "code",
   "execution_count": 34,
   "metadata": {
    "collapsed": false
   },
   "outputs": [
    {
     "data": {
      "text/html": [
       "<div>\n",
       "<table border=\"1\" class=\"dataframe\">\n",
       "  <thead>\n",
       "    <tr style=\"text-align: right;\">\n",
       "      <th></th>\n",
       "      <th>0</th>\n",
       "      <th>1</th>\n",
       "      <th>2</th>\n",
       "      <th>3</th>\n",
       "      <th>4</th>\n",
       "    </tr>\n",
       "  </thead>\n",
       "  <tbody>\n",
       "    <tr>\n",
       "      <th>CT</th>\n",
       "      <td>2</td>\n",
       "      <td>4</td>\n",
       "      <td>6</td>\n",
       "      <td>8</td>\n",
       "      <td>32</td>\n",
       "    </tr>\n",
       "    <tr>\n",
       "      <th>NY</th>\n",
       "      <td>11</td>\n",
       "      <td>22</td>\n",
       "      <td>33</td>\n",
       "      <td>44</td>\n",
       "      <td>FF</td>\n",
       "    </tr>\n",
       "  </tbody>\n",
       "</table>\n",
       "</div>"
      ],
      "text/plain": [
       "     0   1   2   3   4\n",
       "CT   2   4   6   8  32\n",
       "NY  11  22  33  44  FF"
      ]
     },
     "execution_count": 34,
     "metadata": {},
     "output_type": "execute_result"
    }
   ],
   "source": [
    "df.apply(lambda x : x * 2)"
   ]
  },
  {
   "cell_type": "markdown",
   "metadata": {},
   "source": [
    "We can check the type of data in a column another way, using .dtypes:"
   ]
  },
  {
   "cell_type": "code",
   "execution_count": 35,
   "metadata": {
    "collapsed": false
   },
   "outputs": [
    {
     "data": {
      "text/plain": [
       "0    object\n",
       "1    object\n",
       "2    object\n",
       "3    object\n",
       "4    object\n",
       "dtype: object"
      ]
     },
     "execution_count": 35,
     "metadata": {},
     "output_type": "execute_result"
    }
   ],
   "source": [
    "df.dtypes"
   ]
  },
  {
   "cell_type": "markdown",
   "metadata": {},
   "source": [
    "That \"object\" type for a column means Pandas doesn't think the data is numeric."
   ]
  },
  {
   "cell_type": "markdown",
   "metadata": {},
   "source": [
    "So, before we start to do the analysis we need to clean up the data. In this case, Pandas can handle converting the NY column to numeric values with the .to_numeric method:"
   ]
  },
  {
   "cell_type": "code",
   "execution_count": 36,
   "metadata": {
    "collapsed": false
   },
   "outputs": [
    {
     "ename": "ValueError",
     "evalue": "Unable to parse string",
     "output_type": "error",
     "traceback": [
      "\u001b[0;31m---------------------------------------------------------------------------\u001b[0m",
      "\u001b[0;31mValueError\u001b[0m                                Traceback (most recent call last)",
      "\u001b[0;32m<ipython-input-36-41ca39e52b95>\u001b[0m in \u001b[0;36m<module>\u001b[0;34m()\u001b[0m\n\u001b[0;32m----> 1\u001b[0;31m \u001b[0mdf\u001b[0m\u001b[0;34m.\u001b[0m\u001b[0mloc\u001b[0m\u001b[0;34m[\u001b[0m\u001b[0;34m\"NY\"\u001b[0m\u001b[0;34m]\u001b[0m \u001b[0;34m=\u001b[0m \u001b[0mpd\u001b[0m\u001b[0;34m.\u001b[0m\u001b[0mto_numeric\u001b[0m\u001b[0;34m(\u001b[0m\u001b[0mdf\u001b[0m\u001b[0;34m.\u001b[0m\u001b[0mloc\u001b[0m\u001b[0;34m[\u001b[0m\u001b[0;34m\"NY\"\u001b[0m\u001b[0;34m]\u001b[0m\u001b[0;34m)\u001b[0m\u001b[0;34m\u001b[0m\u001b[0m\n\u001b[0m\u001b[1;32m      2\u001b[0m \u001b[0mdf\u001b[0m\u001b[0;34m\u001b[0m\u001b[0m\n",
      "\u001b[0;32m/Library/Python/2.7/site-packages/pandas/tools/util.pyc\u001b[0m in \u001b[0;36mto_numeric\u001b[0;34m(arg, errors)\u001b[0m\n\u001b[1;32m     94\u001b[0m         conv = lib.maybe_convert_numeric(arg,\n\u001b[1;32m     95\u001b[0m                                          \u001b[0mset\u001b[0m\u001b[0;34m(\u001b[0m\u001b[0;34m)\u001b[0m\u001b[0;34m,\u001b[0m\u001b[0;34m\u001b[0m\u001b[0m\n\u001b[0;32m---> 96\u001b[0;31m                                          coerce_numeric=coerce_numeric)\n\u001b[0m\u001b[1;32m     97\u001b[0m     \u001b[0;32mexcept\u001b[0m\u001b[0;34m:\u001b[0m\u001b[0;34m\u001b[0m\u001b[0m\n\u001b[1;32m     98\u001b[0m         \u001b[0;32mif\u001b[0m \u001b[0merrors\u001b[0m \u001b[0;34m==\u001b[0m \u001b[0;34m'raise'\u001b[0m\u001b[0;34m:\u001b[0m\u001b[0;34m\u001b[0m\u001b[0m\n",
      "\u001b[0;32mpandas/src/inference.pyx\u001b[0m in \u001b[0;36mpandas.lib.maybe_convert_numeric (pandas/lib.c:53467)\u001b[0;34m()\u001b[0m\n",
      "\u001b[0;32mpandas/src/inference.pyx\u001b[0m in \u001b[0;36mpandas.lib.maybe_convert_numeric (pandas/lib.c:53254)\u001b[0;34m()\u001b[0m\n",
      "\u001b[0;31mValueError\u001b[0m: Unable to parse string"
     ]
    }
   ],
   "source": [
    "df.loc[\"NY\"] = pd.to_numeric(df.loc[\"NY\"])\n",
    "df"
   ]
  },
  {
   "cell_type": "markdown",
   "metadata": {},
   "source": [
    "### Why the error?\n",
    "\n",
    "The .to_numeric() method failed. It couldn't convert \"F\" to a number, so it raised an exception. We have to tell Pandas how to handle values it can't convert to a number by using the optional errors argument:"
   ]
  },
  {
   "cell_type": "code",
   "execution_count": 46,
   "metadata": {
    "collapsed": false,
    "scrolled": true
   },
   "outputs": [
    {
     "data": {
      "text/html": [
       "<div>\n",
       "<table border=\"1\" class=\"dataframe\">\n",
       "  <thead>\n",
       "    <tr style=\"text-align: right;\">\n",
       "      <th></th>\n",
       "      <th>0</th>\n",
       "      <th>1</th>\n",
       "      <th>2</th>\n",
       "      <th>3</th>\n",
       "      <th>4</th>\n",
       "    </tr>\n",
       "  </thead>\n",
       "  <tbody>\n",
       "    <tr>\n",
       "      <th>CT</th>\n",
       "      <td>10</td>\n",
       "      <td>20</td>\n",
       "      <td>30</td>\n",
       "      <td>40</td>\n",
       "      <td>160</td>\n",
       "    </tr>\n",
       "    <tr>\n",
       "      <th>NY</th>\n",
       "      <td>11</td>\n",
       "      <td>21</td>\n",
       "      <td>31</td>\n",
       "      <td>41</td>\n",
       "      <td>NaN</td>\n",
       "    </tr>\n",
       "  </tbody>\n",
       "</table>\n",
       "</div>"
      ],
      "text/plain": [
       "     0   1   2   3    4\n",
       "CT  10  20  30  40  160\n",
       "NY  11  21  31  41  NaN"
      ]
     },
     "execution_count": 46,
     "metadata": {},
     "output_type": "execute_result"
    }
   ],
   "source": [
    "df.loc[\"NY\"] = pd.to_numeric(df.loc[\"NY\"]\n",
    "                             ,errors=\"coerce\")\n",
    "df"
   ]
  },
  {
   "cell_type": "markdown",
   "metadata": {},
   "source": [
    "The table mostly looks the same, except the \"F\" is now a null value. Now let's try again to multiply all the values by 10:"
   ]
  },
  {
   "cell_type": "code",
   "execution_count": 38,
   "metadata": {
    "collapsed": false
   },
   "outputs": [
    {
     "data": {
      "text/html": [
       "<div>\n",
       "<table border=\"1\" class=\"dataframe\">\n",
       "  <thead>\n",
       "    <tr style=\"text-align: right;\">\n",
       "      <th></th>\n",
       "      <th>0</th>\n",
       "      <th>1</th>\n",
       "      <th>2</th>\n",
       "      <th>3</th>\n",
       "      <th>4</th>\n",
       "    </tr>\n",
       "  </thead>\n",
       "  <tbody>\n",
       "    <tr>\n",
       "      <th>CT</th>\n",
       "      <td>10</td>\n",
       "      <td>20</td>\n",
       "      <td>30</td>\n",
       "      <td>40</td>\n",
       "      <td>160</td>\n",
       "    </tr>\n",
       "    <tr>\n",
       "      <th>NY</th>\n",
       "      <td>10</td>\n",
       "      <td>20</td>\n",
       "      <td>30</td>\n",
       "      <td>40</td>\n",
       "      <td>NaN</td>\n",
       "    </tr>\n",
       "  </tbody>\n",
       "</table>\n",
       "</div>"
      ],
      "text/plain": [
       "     0   1   2   3    4\n",
       "CT  10  20  30  40  160\n",
       "NY  10  20  30  40  NaN"
      ]
     },
     "execution_count": 38,
     "metadata": {},
     "output_type": "execute_result"
    }
   ],
   "source": [
    "df = df.apply(lambda x: x * 10)\n",
    "df"
   ]
  },
  {
   "cell_type": "markdown",
   "metadata": {},
   "source": [
    "Yay! The calculation worked on as expected on all the fields. Let's verify that we're working with numbers, not \"objects\":"
   ]
  },
  {
   "cell_type": "code",
   "execution_count": 12,
   "metadata": {
    "collapsed": false
   },
   "outputs": [
    {
     "data": {
      "text/plain": [
       "0    float64\n",
       "1    float64\n",
       "2    float64\n",
       "3    float64\n",
       "4    float64\n",
       "dtype: object"
      ]
     },
     "execution_count": 12,
     "metadata": {},
     "output_type": "execute_result"
    }
   ],
   "source": [
    "df.dtypes"
   ]
  },
  {
   "cell_type": "markdown",
   "metadata": {},
   "source": [
    "That's good!\n",
    "\n",
    "float64 means Pandas sees the values in the column as valid floating decimal numbers. Having that NaN doesn't spoil the whole column. It's just like having a blank cell in a spreadsheet, which is OK."
   ]
  },
  {
   "cell_type": "markdown",
   "metadata": {},
   "source": [
    "# Part 2: Sizing up the matter\n",
    "\n",
    "In this section we'll import a dataset (on stun gun use by CT police) and convert some ugly data to useful data.\n",
    "\n",
    "### Importing the data\n",
    "\n",
    "Start by importing the spreadsheet. I'm paring it down to just a few columns. I'll use the .head() method to visually inspect the first few rows in the table. Then I'll use .dtypes to see what data type Pandas inferred when importing:"
   ]
  },
  {
   "cell_type": "code",
   "execution_count": 17,
   "metadata": {
    "collapsed": false
   },
   "outputs": [
    {
     "data": {
      "text/html": [
       "<div>\n",
       "<table border=\"1\" class=\"dataframe\">\n",
       "  <thead>\n",
       "    <tr style=\"text-align: right;\">\n",
       "      <th></th>\n",
       "      <th>Incident Case Number</th>\n",
       "      <th>Height</th>\n",
       "      <th>Weight</th>\n",
       "    </tr>\n",
       "  </thead>\n",
       "  <tbody>\n",
       "    <tr>\n",
       "      <th>0</th>\n",
       "      <td>NaN</td>\n",
       "      <td>NaN</td>\n",
       "      <td>NaN</td>\n",
       "    </tr>\n",
       "    <tr>\n",
       "      <th>1</th>\n",
       "      <td>2015-055</td>\n",
       "      <td>5'10\"</td>\n",
       "      <td>220</td>\n",
       "    </tr>\n",
       "    <tr>\n",
       "      <th>2</th>\n",
       "      <td>15-19</td>\n",
       "      <td>5'8\"</td>\n",
       "      <td>150</td>\n",
       "    </tr>\n",
       "    <tr>\n",
       "      <th>3</th>\n",
       "      <td>15-00010</td>\n",
       "      <td>5'10\"</td>\n",
       "      <td>175</td>\n",
       "    </tr>\n",
       "    <tr>\n",
       "      <th>4</th>\n",
       "      <td>1500006763</td>\n",
       "      <td>5'10\"</td>\n",
       "      <td>150</td>\n",
       "    </tr>\n",
       "  </tbody>\n",
       "</table>\n",
       "</div>"
      ],
      "text/plain": [
       "  Incident Case Number Height Weight\n",
       "0                  NaN    NaN    NaN\n",
       "1             2015-055  5'10\"    220\n",
       "2                15-19   5'8\"    150\n",
       "3             15-00010  5'10\"    175\n",
       "4           1500006763  5'10\"    150"
      ]
     },
     "execution_count": 17,
     "metadata": {},
     "output_type": "execute_result"
    }
   ],
   "source": [
    "stuns = pd.read_excel(\"data/2015 Reported Taser Data.xlsx\")\\\n",
    "[[\"Incident Case Number\",\"Height\",\"Weight\"]]\n",
    "stuns.head()"
   ]
  },
  {
   "cell_type": "code",
   "execution_count": 14,
   "metadata": {
    "collapsed": false
   },
   "outputs": [
    {
     "data": {
      "text/plain": [
       "Incident Case Number    object\n",
       "Height                  object\n",
       "Weight                  object\n",
       "dtype: object"
      ]
     },
     "execution_count": 14,
     "metadata": {},
     "output_type": "execute_result"
    }
   ],
   "source": [
    "stuns.dtypes"
   ]
  },
  {
   "cell_type": "markdown",
   "metadata": {},
   "source": [
    "All objects! That's not good. \n",
    "\n",
    "We can tell that the case number can be any kind of string.\n",
    "\n",
    "Height, that looks like a problem. The commonly use prime notation for feet and inches we'll get to. \n",
    "\n",
    "For now, let's tackle the weight. Why is that column not numeric?"
   ]
  },
  {
   "cell_type": "code",
   "execution_count": 18,
   "metadata": {
    "collapsed": false
   },
   "outputs": [
    {
     "data": {
      "text/plain": [
       "0          NaN\n",
       "1          220\n",
       "2          150\n",
       "3          175\n",
       "4          150\n",
       "5          153\n",
       "6          260\n",
       "7          200\n",
       "8          177\n",
       "9          120\n",
       "10         155\n",
       "11         229\n",
       "12         160\n",
       "13         175\n",
       "14         110\n",
       "15         200\n",
       "16         170\n",
       "17         180\n",
       "18         190\n",
       "19         190\n",
       "20         250\n",
       "21         235\n",
       "22         205\n",
       "23         250\n",
       "24         185\n",
       "25         209\n",
       "26         160\n",
       "27         200\n",
       "28         230\n",
       "29         180\n",
       "        ...   \n",
       "581        245\n",
       "582        270\n",
       "583        170\n",
       "584        145\n",
       "585        180\n",
       "586        240\n",
       "587        145\n",
       "588        115\n",
       "589        350\n",
       "590        180\n",
       "591        185\n",
       "592    Unknown\n",
       "593        220\n",
       "594        300\n",
       "595        220\n",
       "596    Unknown\n",
       "597        200\n",
       "598        160\n",
       "599        300\n",
       "600        170\n",
       "601        165\n",
       "602        190\n",
       "603        195\n",
       "604        160\n",
       "605        155\n",
       "606        170\n",
       "607        215\n",
       "608        280\n",
       "609    Unknown\n",
       "610        215\n",
       "Name: Weight, dtype: object"
      ]
     },
     "execution_count": 18,
     "metadata": {},
     "output_type": "execute_result"
    }
   ],
   "source": [
    "stuns[\"Weight\"]"
   ]
  },
  {
   "cell_type": "markdown",
   "metadata": {},
   "source": [
    "There are some fields that have the word \"Unknown\" in them instead of a number. No problem. Let's convert those all to nulls, which is really just the computer word for \"Unknown\":"
   ]
  },
  {
   "cell_type": "code",
   "execution_count": 19,
   "metadata": {
    "collapsed": false
   },
   "outputs": [
    {
     "data": {
      "text/plain": [
       "Incident Case Number     object\n",
       "Height                   object\n",
       "Weight                  float64\n",
       "dtype: object"
      ]
     },
     "execution_count": 19,
     "metadata": {},
     "output_type": "execute_result"
    }
   ],
   "source": [
    "stuns[\"Weight\"] = pd.to_numeric(stuns[\"Weight\"], \n",
    "                                errors=\"coerce\")\n",
    "stuns.dtypes"
   ]
  },
  {
   "cell_type": "markdown",
   "metadata": {},
   "source": [
    "Good, it now sees the column as a float. Let's make sure we can do calculations on it. Let's try and find the average weight of stun gun subjects."
   ]
  },
  {
   "cell_type": "code",
   "execution_count": 21,
   "metadata": {
    "collapsed": false
   },
   "outputs": [
    {
     "data": {
      "text/plain": [
       "188.83273381294964"
      ]
     },
     "execution_count": 21,
     "metadata": {},
     "output_type": "execute_result"
    }
   ],
   "source": [
    "stuns[\"Weight\"].mean()"
   ]
  },
  {
   "cell_type": "markdown",
   "metadata": {},
   "source": [
    "Great. Now on to the more complicated height conversion"
   ]
  },
  {
   "cell_type": "markdown",
   "metadata": {},
   "source": [
    "\n",
    "### The approach\n",
    "\n",
    "Pandas works great for simple conversions, but it doesn't know how to convert 5'6\" to some decimal value. We'll have to do it ourselves.\n",
    "\n",
    "First of all, let's choose a desired result. We could represet 5'6\" as 5.5 feet, or 66 inches. Since it's not natural read 5.5 and know it means 5 feet 6 inches let's go with inches.\n",
    "\n",
    "We'll start by writing a function that can do the conversion from prime-notation to inches, then apply that function over the entire column.\n",
    "\n"
   ]
  },
  {
   "cell_type": "markdown",
   "metadata": {},
   "source": [
    "### Writing the 'spec' for the inches function\n",
    "\n",
    "We will accept and convert strings that match the following patterns:\n",
    "\n",
    "1. Strings with both a feet and inches value, denoted with a prime and double prime respectively, like: 5'6\"\n",
    "2. The same as 1 but missing the trailing double prime mark: 5'6\n",
    "3. Strings with only a feet value, like: 5\"\n",
    "\n",
    "Anything else, we'll return null, which in Python is None.\n",
    "\n",
    "Let's add a test case for each format we accept and a couple that should fail, returning None\n"
   ]
  },
  {
   "cell_type": "markdown",
   "metadata": {},
   "source": [
    "### Developing and testing the inches function\n",
    "I'm going to write this iteratively so you can see my development process. Start by making a function and a test method that calls the method with several inputs. In this case all the inches does for now is return the string you give it. That's sometimes called a code stub or starter code."
   ]
  },
  {
   "cell_type": "code",
   "execution_count": 22,
   "metadata": {
    "collapsed": false
   },
   "outputs": [
    {
     "name": "stdout",
     "output_type": "stream",
     "text": [
      "5'6\" Should return 66:\t\t5'6\"\n",
      "5'6 Should return 66:\t\t5'6\n",
      "5' Should return 60:\t\t5'\n",
      "5 feet ... Should return None:\t5 feet ten inches\n",
      "5'6' Should return None:\t5'6'\n",
      "5'F\" Should return None:\t5'F'\n",
      "5'6LOL Should return None:\t5'6\"LOL\n",
      "5'120 Should return None:\t5'120\n"
     ]
    }
   ],
   "source": [
    "# Convert prime-notation height to inches\n",
    "def inches(prime_str):\n",
    "    return prime_str\n",
    "\n",
    "def test_inches():\n",
    "    # Should return 66\n",
    "    print \"5'6\\\" Should return 66:\\t\\t\", inches(\"5'6\\\"\")\n",
    "    # Should return 66\n",
    "    print \"5'6 Should return 66:\\t\\t\",inches(\"5'6\")\n",
    "    # Should return 60\n",
    "    print \"5' Should return 60:\\t\\t\",inches(\"5'\")\n",
    "    # Should return None\n",
    "    print \"5 feet ... Should return None:\\t\"\n",
    "    ,inches(\"5 feet ten inches\")\n",
    "    print \"5'6' Should return None:\\t\",inches(\"5'6'\")\n",
    "    print \"5'F\\\" Should return None:\\t\",inches(\"5'F'\")\n",
    "    print \"5'6LOL Should return None:\\t\",inches(\"5'6\\\"LOL\")\n",
    "    print \"5'120 Should return None:\\t\",inches(\"5'120\")\n",
    "\n",
    "    \n",
    "test_inches()"
   ]
  },
  {
   "cell_type": "markdown",
   "metadata": {},
   "source": [
    "So we've defined a pattern and set up some basic tests. \n",
    "\n",
    "It's time to write the code to extract data from strings that match our specified patterns. The tool used to do this is regular expressions, which are not unique to Python. \n",
    "\n",
    "We'll use the regular expressions (re) module."
   ]
  },
  {
   "cell_type": "code",
   "execution_count": 24,
   "metadata": {
    "collapsed": false,
    "scrolled": true
   },
   "outputs": [
    {
     "name": "stdout",
     "output_type": "stream",
     "text": [
      "5'6\" Should return 66:\t\t\n",
      "Feet:  5\n",
      "Inches:  6\n",
      "5'6\"\n",
      "5'6 Should return 66:\t\t\n",
      "Feet:  5\n",
      "Inches:  6\n",
      "5'6\n",
      "5' Should return 60:\t\t\n",
      "Feet:  5\n",
      "Inches:  \n",
      "5'\n",
      "5 feet ... Should return None:\t"
     ]
    },
    {
     "ename": "AttributeError",
     "evalue": "'NoneType' object has no attribute 'group'",
     "output_type": "error",
     "traceback": [
      "\u001b[0;31m---------------------------------------------------------------------------\u001b[0m",
      "\u001b[0;31mAttributeError\u001b[0m                            Traceback (most recent call last)",
      "\u001b[0;32m<ipython-input-24-010d215ec5ea>\u001b[0m in \u001b[0;36m<module>\u001b[0;34m()\u001b[0m\n\u001b[1;32m     21\u001b[0m     \u001b[0;32mreturn\u001b[0m \u001b[0mprime_str\u001b[0m\u001b[0;34m\u001b[0m\u001b[0m\n\u001b[1;32m     22\u001b[0m \u001b[0;34m\u001b[0m\u001b[0m\n\u001b[0;32m---> 23\u001b[0;31m \u001b[0mtest_inches\u001b[0m\u001b[0;34m(\u001b[0m\u001b[0;34m)\u001b[0m\u001b[0;34m\u001b[0m\u001b[0m\n\u001b[0m",
      "\u001b[0;32m<ipython-input-22-1eeec7192329>\u001b[0m in \u001b[0;36mtest_inches\u001b[0;34m()\u001b[0m\n\u001b[1;32m     11\u001b[0m     \u001b[0;32mprint\u001b[0m \u001b[0;34m\"5' Should return 60:\\t\\t\"\u001b[0m\u001b[0;34m,\u001b[0m\u001b[0minches\u001b[0m\u001b[0;34m(\u001b[0m\u001b[0;34m\"5'\"\u001b[0m\u001b[0;34m)\u001b[0m\u001b[0;34m\u001b[0m\u001b[0m\n\u001b[1;32m     12\u001b[0m     \u001b[0;31m# Should return None\u001b[0m\u001b[0;34m\u001b[0m\u001b[0;34m\u001b[0m\u001b[0m\n\u001b[0;32m---> 13\u001b[0;31m     \u001b[0;32mprint\u001b[0m \u001b[0;34m\"5 feet ... Should return None:\\t\"\u001b[0m\u001b[0;34m,\u001b[0m\u001b[0minches\u001b[0m\u001b[0;34m(\u001b[0m\u001b[0;34m\"5 feet ten inches\"\u001b[0m\u001b[0;34m)\u001b[0m\u001b[0;34m\u001b[0m\u001b[0m\n\u001b[0m\u001b[1;32m     14\u001b[0m     \u001b[0;32mprint\u001b[0m \u001b[0;34m\"5'6' Should return None:\\t\"\u001b[0m\u001b[0;34m,\u001b[0m\u001b[0minches\u001b[0m\u001b[0;34m(\u001b[0m\u001b[0;34m\"5'6'\"\u001b[0m\u001b[0;34m)\u001b[0m\u001b[0;34m\u001b[0m\u001b[0m\n\u001b[1;32m     15\u001b[0m     \u001b[0;32mprint\u001b[0m \u001b[0;34m\"5'F\\\" Should return None:\\t\"\u001b[0m\u001b[0;34m,\u001b[0m\u001b[0minches\u001b[0m\u001b[0;34m(\u001b[0m\u001b[0;34m\"5'F'\"\u001b[0m\u001b[0;34m)\u001b[0m\u001b[0;34m\u001b[0m\u001b[0m\n",
      "\u001b[0;32m<ipython-input-24-010d215ec5ea>\u001b[0m in \u001b[0;36minches\u001b[0;34m(prime_str)\u001b[0m\n\u001b[1;32m     14\u001b[0m     \u001b[0;31m# Access the extract values using the .group() method\u001b[0m\u001b[0;34m\u001b[0m\u001b[0;34m\u001b[0m\u001b[0m\n\u001b[1;32m     15\u001b[0m     \u001b[0;31m# We'll print the values out but not do anything with them yet\u001b[0m\u001b[0;34m\u001b[0m\u001b[0;34m\u001b[0m\u001b[0m\n\u001b[0;32m---> 16\u001b[0;31m     \u001b[0mfeet\u001b[0m \u001b[0;34m=\u001b[0m \u001b[0mresult\u001b[0m\u001b[0;34m.\u001b[0m\u001b[0mgroup\u001b[0m\u001b[0;34m(\u001b[0m\u001b[0;34m\"feet\"\u001b[0m\u001b[0;34m)\u001b[0m\u001b[0;34m\u001b[0m\u001b[0m\n\u001b[0m\u001b[1;32m     17\u001b[0m     \u001b[0minches\u001b[0m \u001b[0;34m=\u001b[0m \u001b[0mresult\u001b[0m\u001b[0;34m.\u001b[0m\u001b[0mgroup\u001b[0m\u001b[0;34m(\u001b[0m\u001b[0;34m\"inches\"\u001b[0m\u001b[0;34m)\u001b[0m\u001b[0;34m\u001b[0m\u001b[0m\n\u001b[1;32m     18\u001b[0m     \u001b[0;32mprint\u001b[0m \u001b[0;34m\"\\nFeet: \"\u001b[0m\u001b[0;34m,\u001b[0m \u001b[0mfeet\u001b[0m\u001b[0;34m\u001b[0m\u001b[0m\n",
      "\u001b[0;31mAttributeError\u001b[0m: 'NoneType' object has no attribute 'group'"
     ]
    }
   ],
   "source": [
    "# We're going to need regular expressions now;\n",
    "# import the re module\n",
    "import re\n",
    "\n",
    "# Convert prime-notation height to inches\n",
    "def inches(prime_str):\n",
    "    # Extract feet and inches from the string, as long as \n",
    "    # 1. feet is a numeric value at the start of the string, followed\n",
    "    # by a single prime mark\n",
    "    # 2. inches is a numeric value preceded by the feet and single prime\n",
    "    # mark and optionally followed by a double prime mark\n",
    "    result = re.match(r\"(?P<feet>[0-9]+)'(?P<inches>[0-9]{0,2}?)[\\\"]?\\Z\", prime_str)\n",
    "    \n",
    "    # Access the extract values using the .group() method\n",
    "    # We'll print the values out but not do anything with them yet\n",
    "    feet = result.group(\"feet\")\n",
    "    inches = result.group(\"inches\")\n",
    "    print \"\\nFeet: \", feet \n",
    "    print \"Inches: \", inches\n",
    "\n",
    "    return prime_str\n",
    "    \n",
    "test_inches()"
   ]
  },
  {
   "cell_type": "markdown",
   "metadata": {},
   "source": [
    "We don't want to throw an exception when the pattern match fails. We just want to return None.\n",
    "\n",
    "We'll use try and except to handle the exception and return None.\n"
   ]
  },
  {
   "cell_type": "code",
   "execution_count": 25,
   "metadata": {
    "collapsed": false
   },
   "outputs": [
    {
     "name": "stdout",
     "output_type": "stream",
     "text": [
      "5'6\" Should return 66:\t\t\n",
      "Feet:  5\n",
      "Inches:  6\n",
      "5'6\"\n",
      "5'6 Should return 66:\t\t\n",
      "Feet:  5\n",
      "Inches:  6\n",
      "5'6\n",
      "5' Should return 60:\t\t\n",
      "Feet:  5\n",
      "Inches:  \n",
      "5'\n",
      "5 feet ... Should return None:\tNone\n",
      "5'6' Should return None:\tNone\n",
      "5'F\" Should return None:\tNone\n",
      "5'6LOL Should return None:\tNone\n",
      "5'120 Should return None:\tNone\n"
     ]
    }
   ],
   "source": [
    "# We're going to need regular expressions now;\n",
    "# import the re module\n",
    "import re\n",
    "\n",
    "# Convert prime-notation height to inches\n",
    "def inches(prime_str):\n",
    "    ## Wrap the function in try/except\n",
    "    try: \n",
    "        # Extract feet and inches from the string, as long as \n",
    "        # 1. feet is a numeric value at the start of the string, followed\n",
    "        # by a single prime mark\n",
    "        # 2. inches is a numeric value preceded by the feet and single prime\n",
    "        # mark and optionally followed by a double prime mark\n",
    "        result = re.match(r\"(?P<feet>[0-9]+)'(?P<inches>[0-9]{0,2}?)[\\\"]?\\Z\", prime_str)\n",
    "    \n",
    "        # Access the extract values using the .group() method\n",
    "        # We'll print the values out but not do anything with them yet\n",
    "        feet = result.group(\"feet\")\n",
    "        inches = result.group(\"inches\")\n",
    "        print \"\\nFeet: \", feet \n",
    "        print \"Inches: \", inches\n",
    "    except:\n",
    "        # This code will only be called if the code within the try: block\n",
    "        # throws an exception\n",
    "        return None\n",
    "\n",
    "    # We won't get to this point unless the code in the try block was successful\n",
    "    return prime_str\n",
    "    \n",
    "test_inches()"
   ]
  },
  {
   "cell_type": "markdown",
   "metadata": {},
   "source": [
    "OK, now we're getting somewhere. It's time to take the feet and inches and convert them to inches.\n",
    "\n",
    "The algorithm is:\n",
    "\n",
    "    12 * feet + inches"
   ]
  },
  {
   "cell_type": "code",
   "execution_count": 28,
   "metadata": {
    "collapsed": false,
    "scrolled": true
   },
   "outputs": [
    {
     "name": "stdout",
     "output_type": "stream",
     "text": [
      "5'6\" Should return 66:\t\t5555555555556\n",
      "5'6 Should return 66:\t\t5555555555556\n",
      "5' Should return 60:\t\t555555555555\n",
      "5 feet ... Should return None:\tNone\n",
      "5'6' Should return None:\tNone\n",
      "5'F\" Should return None:\tNone\n",
      "5'6LOL Should return None:\tNone\n",
      "5'120 Should return None:\tNone\n"
     ]
    }
   ],
   "source": [
    "# We're going to need regular expressions now;\n",
    "# import the re module\n",
    "import re\n",
    "\n",
    "# Convert prime-notation height to inches\n",
    "def inches(prime_str):\n",
    "    ## Wrap the function in try/except\n",
    "    try: \n",
    "        # Extract feet and inches from the string, as long as \n",
    "        # 1. feet is a numeric value at the start of the string, followed\n",
    "        # by a single prime mark\n",
    "        # 2. inches is a numeric value preceded by the feet and single prime\n",
    "        # mark and optionally followed by a double prime mark\n",
    "        result = re.match(r\"(?P<feet>[0-9]+)'(?P<inches>[0-9]{0,2}?)[\\\"]?\\Z\", prime_str)\n",
    "    \n",
    "        # Access the extract values using the .group() method\n",
    "        feet = result.group(\"feet\")\n",
    "        inches = result.group(\"inches\")\n",
    "        # print \"\\nFeet: \", feet \n",
    "        # print \"Inches: \", inches, \"\\n\"\n",
    "    except:\n",
    "        # This code will only be called if the code within the try: block\n",
    "        # throws an exception\n",
    "        return None\n",
    "\n",
    "    # We won't get to this point unless the code in the try block was successful\n",
    "    \n",
    "    # Convert feet and inches to inches\n",
    "    feet = result.group(\"feet\")\n",
    "    inches = result.group(\"inches\")\n",
    "    return feet * 12 + inches\n",
    "    \n",
    "test_inches()"
   ]
  },
  {
   "cell_type": "markdown",
   "metadata": {},
   "source": [
    "Oh no! Either that person is really tall or it looks like the feet and inches returned from the regular expression aren't being treated like numbers.\n",
    "\n",
    "Let's use the int() method to convert the values to numbers.\n"
   ]
  },
  {
   "cell_type": "code",
   "execution_count": 42,
   "metadata": {
    "collapsed": false
   },
   "outputs": [
    {
     "name": "stdout",
     "output_type": "stream",
     "text": [
      "5'6\" Should return 66:\t\t66\n",
      "5'6 Should return 66:\t\t66\n",
      "5' Should return 60:\t\t60\n",
      "5 feet ... Should return None:\tNone\n",
      "5'6' Should return None:\tNone\n",
      "5'F\" Should return None:\tNone\n",
      "5'6LOL Should return None:\tNone\n",
      "5'120 Should return None:\tNone\n"
     ]
    }
   ],
   "source": [
    "# We're going to need regular expressions now;\n",
    "# import the re module\n",
    "import re\n",
    "\n",
    "# Convert prime-notation height to inches\n",
    "def inches(prime_str):\n",
    "    ## Wrap the function in try/except\n",
    "    try: \n",
    "        # Extract feet and inches from the string, as long as \n",
    "        # 1. feet is a numeric value at the start of the string, followed\n",
    "        # by a single prime mark\n",
    "        # 2. inches is a numeric value preceded by the feet and single prime\n",
    "        # mark and optionally followed by a double prime mark\n",
    "        result = re.match(r\"(?P<feet>[0-9]+)'(?P<inches>[0-9]{0,2}?)[\\\"]?\\Z\", prime_str)\n",
    "    \n",
    "        # Access the extract values using the .group() method\n",
    "        feet = int(result.group(1))\n",
    "        if result.group(2) == \"\":\n",
    "            inches = 0\n",
    "        else:\n",
    "            inches = int(result.group(2))\n",
    "        # print \"Feet: \", feet \n",
    "        # print \"Inches: \", inches\n",
    "    except:\n",
    "        # This code will only be called if the code within the try: block\n",
    "        # throws an exception\n",
    "        return None\n",
    "\n",
    "    # We won't get to this point unless the code in the try block was successful\n",
    "        \n",
    "    return feet * 12 + inches\n",
    "    \n",
    "test_inches()\n",
    "#inches(\"5'6\\\"\")\n",
    "#inches(\"5'F\")"
   ]
  },
  {
   "cell_type": "markdown",
   "metadata": {},
   "source": [
    "### Reading the regex\n",
    "\n",
    "OK, it seems to be working. But let's break down this line:\n",
    "   \n",
    "    result = re.match(r\"(?P<feet>[0-9]+)'(?P<inches>[0-9]{0,2}?)[\\\"]?\\Z\", prime_str)\n",
    "    \n",
    "It looks scary. I understand. For years, if I saw a line like that, I would ignore it and find some other way to solve my problem. The key to reading regex is to recognize its components.\n",
    "    \n",
    "Let's start by ignoring the `result = ...` assignment part and focus on `re.match...` part.\n",
    "\n",
    "We make a call to `re.match(expression, string)` to look for `expression` in string where `expression` is:\n",
    "\n",
    "    r\"(?P<feet>[0-9]+)'(?P<inches>[0-9]{0,2}?)[\\\"]?\\Z\"\n",
    "    \n",
    "and `string` is `prime_str`, the argument passed to the inches function\n",
    "\n",
    "The `re.match ()` function  is described in detail here (https://docs.python.org/2/library/re.html#re.match). It looks for `expression` in `string`. Let's break down the string.\n",
    "\n",
    "1. The `r` signifies that the rest of the expression will be in raw notation (https://docs.python.org/2/library/re.html#raw-string-notation), eliminating the need to use a silly amount of backlash escape characters. \n",
    "2. The next chunk is `(?P<feet>[0-9]+)`. The parentheses signify that everything inside them should be extracted as a \"group\" we can access later. Inside it, we see `?P<feet>`, which stores the group under a symbolic name we can use to access it later. The actual pattern portion is `[0-9]+` The brackets signify that any character is a valid match. In this case, the numerals 0-9 are all valid. The `+` signifies that there needs to be at least one of these values.\n",
    "3. The next chunk is the `'` prime mark (actually a single quote). There has to be one.\n",
    "4. The next chunk is `(?P<inches>[0-9]{0,2}?)`. It looks a lot like the chunk to extract feet. The only differences are that we are storing the result under a different symbolic name \"inches\" and instead of `+` we have `{0,2}?`. Remember the `+` means look for at least one occurrence, but we don't want to require inches. Instead the `?` means to look for exactly 0 or 1 occurrences of the `[0-9]` pattern (any numeral). Putting `{0,2}?` means look for 0 to 2 numerals, but not more. That's because we don't want to accept strings like 5'120.\n",
    "5. The next chunk `[\\\"]?` looks for zero or one double prime (double quotation mark), since the trailing double prime is optional according to our spec.\n",
    "6. Finally, the `\\Z` matches the end of the string. We don't want to allow any trailing characters, like 5'6LOL"
   ]
  },
  {
   "cell_type": "markdown",
   "metadata": {},
   "source": [
    "# Part 3: Converting all the data\n",
    "\n",
    "Now that we have our handy inches() function, we need a way to apply it to every value in the Height column.\n",
    "\n",
    "Pandas has a method called `.apply()` which lets us do just that (http://pandas.pydata.org/pandas-docs/version/0.17.0/generated/pandas.Series.apply.html).\n",
    "\n",
    "It's a special kind of function called a higher order function, so-called because it takes another function as its argument. The apply function will take each value in the Series (column) and replace it with whatever value the function returns.\n",
    "\n",
    "Let's dredge up our example dataframe:"
   ]
  },
  {
   "cell_type": "code",
   "execution_count": 39,
   "metadata": {
    "collapsed": false
   },
   "outputs": [
    {
     "data": {
      "text/html": [
       "<div>\n",
       "<table border=\"1\" class=\"dataframe\">\n",
       "  <thead>\n",
       "    <tr style=\"text-align: right;\">\n",
       "      <th></th>\n",
       "      <th>0</th>\n",
       "      <th>1</th>\n",
       "      <th>2</th>\n",
       "      <th>3</th>\n",
       "      <th>4</th>\n",
       "    </tr>\n",
       "  </thead>\n",
       "  <tbody>\n",
       "    <tr>\n",
       "      <th>CT</th>\n",
       "      <td>10</td>\n",
       "      <td>20</td>\n",
       "      <td>30</td>\n",
       "      <td>40</td>\n",
       "      <td>160</td>\n",
       "    </tr>\n",
       "    <tr>\n",
       "      <th>NY</th>\n",
       "      <td>10</td>\n",
       "      <td>20</td>\n",
       "      <td>30</td>\n",
       "      <td>40</td>\n",
       "      <td>NaN</td>\n",
       "    </tr>\n",
       "  </tbody>\n",
       "</table>\n",
       "</div>"
      ],
      "text/plain": [
       "     0   1   2   3    4\n",
       "CT  10  20  30  40  160\n",
       "NY  10  20  30  40  NaN"
      ]
     },
     "execution_count": 39,
     "metadata": {},
     "output_type": "execute_result"
    }
   ],
   "source": [
    "df"
   ]
  },
  {
   "cell_type": "markdown",
   "metadata": {},
   "source": [
    "Let's say we want to convert every value in the \"NY\" row to 1. We can write a function called one() that only returns the value 1, then call the `.apply()` method:"
   ]
  },
  {
   "cell_type": "code",
   "execution_count": 40,
   "metadata": {
    "collapsed": false
   },
   "outputs": [
    {
     "data": {
      "text/html": [
       "<div>\n",
       "<table border=\"1\" class=\"dataframe\">\n",
       "  <thead>\n",
       "    <tr style=\"text-align: right;\">\n",
       "      <th></th>\n",
       "      <th>0</th>\n",
       "      <th>1</th>\n",
       "      <th>2</th>\n",
       "      <th>3</th>\n",
       "      <th>4</th>\n",
       "    </tr>\n",
       "  </thead>\n",
       "  <tbody>\n",
       "    <tr>\n",
       "      <th>CT</th>\n",
       "      <td>10</td>\n",
       "      <td>20</td>\n",
       "      <td>30</td>\n",
       "      <td>40</td>\n",
       "      <td>160</td>\n",
       "    </tr>\n",
       "    <tr>\n",
       "      <th>NY</th>\n",
       "      <td>11</td>\n",
       "      <td>21</td>\n",
       "      <td>31</td>\n",
       "      <td>41</td>\n",
       "      <td>NaN</td>\n",
       "    </tr>\n",
       "  </tbody>\n",
       "</table>\n",
       "</div>"
      ],
      "text/plain": [
       "     0   1   2   3    4\n",
       "CT  10  20  30  40  160\n",
       "NY  11  21  31  41  NaN"
      ]
     },
     "execution_count": 40,
     "metadata": {},
     "output_type": "execute_result"
    }
   ],
   "source": [
    "# We accept argument x even though we do nothing with it\n",
    "# because the function passed as an argument to apply()\n",
    "# must accept a single argument\n",
    "def add_one(x):\n",
    "    return x + 1\n",
    "\n",
    "df.loc[\"NY\"] = df.loc[\"NY\"].apply(add_one)\n",
    "df"
   ]
  },
  {
   "cell_type": "markdown",
   "metadata": {},
   "source": [
    "So now let's do apply our inches method to our Height column in the stuns DataFrame and assign it to a new column."
   ]
  },
  {
   "cell_type": "code",
   "execution_count": 43,
   "metadata": {
    "collapsed": false
   },
   "outputs": [
    {
     "data": {
      "text/html": [
       "<div>\n",
       "<table border=\"1\" class=\"dataframe\">\n",
       "  <thead>\n",
       "    <tr style=\"text-align: right;\">\n",
       "      <th></th>\n",
       "      <th>Incident Case Number</th>\n",
       "      <th>Height</th>\n",
       "      <th>Weight</th>\n",
       "      <th>Heights_numeric</th>\n",
       "    </tr>\n",
       "  </thead>\n",
       "  <tbody>\n",
       "    <tr>\n",
       "      <th>0</th>\n",
       "      <td>NaN</td>\n",
       "      <td>NaN</td>\n",
       "      <td>NaN</td>\n",
       "      <td>NaN</td>\n",
       "    </tr>\n",
       "    <tr>\n",
       "      <th>1</th>\n",
       "      <td>2015-055</td>\n",
       "      <td>5'10\"</td>\n",
       "      <td>220</td>\n",
       "      <td>70</td>\n",
       "    </tr>\n",
       "    <tr>\n",
       "      <th>2</th>\n",
       "      <td>15-19</td>\n",
       "      <td>5'8\"</td>\n",
       "      <td>150</td>\n",
       "      <td>68</td>\n",
       "    </tr>\n",
       "    <tr>\n",
       "      <th>3</th>\n",
       "      <td>15-00010</td>\n",
       "      <td>5'10\"</td>\n",
       "      <td>175</td>\n",
       "      <td>70</td>\n",
       "    </tr>\n",
       "    <tr>\n",
       "      <th>4</th>\n",
       "      <td>1500006763</td>\n",
       "      <td>5'10\"</td>\n",
       "      <td>150</td>\n",
       "      <td>70</td>\n",
       "    </tr>\n",
       "  </tbody>\n",
       "</table>\n",
       "</div>"
      ],
      "text/plain": [
       "  Incident Case Number Height  Weight  Heights_numeric\n",
       "0                  NaN    NaN     NaN              NaN\n",
       "1             2015-055  5'10\"     220               70\n",
       "2                15-19   5'8\"     150               68\n",
       "3             15-00010  5'10\"     175               70\n",
       "4           1500006763  5'10\"     150               70"
      ]
     },
     "execution_count": 43,
     "metadata": {},
     "output_type": "execute_result"
    }
   ],
   "source": [
    "stuns[\"Heights_numeric\"] = stuns[\"Height\"].apply(inches)\n",
    "stuns.head()"
   ]
  },
  {
   "cell_type": "markdown",
   "metadata": {},
   "source": [
    "Looks like it worked! Finally let's look for the mean and median height:"
   ]
  },
  {
   "cell_type": "code",
   "execution_count": 44,
   "metadata": {
    "collapsed": false
   },
   "outputs": [
    {
     "data": {
      "text/plain": [
       "69.754385964912274"
      ]
     },
     "execution_count": 44,
     "metadata": {},
     "output_type": "execute_result"
    }
   ],
   "source": [
    "stuns[\"Heights_numeric\"].mean()"
   ]
  },
  {
   "cell_type": "markdown",
   "metadata": {},
   "source": [
    "# That's all, folks!\n",
    "\n",
    "So by now you should have an understanding of:\n",
    "1. why we can't trust our eyeballs to validate data; \n",
    "2. how to develop a conversion function iteratively and test it along the way; \n",
    "3. how to use regular expressions to convert strings that match a known pattern\n"
   ]
  },
  {
   "cell_type": "markdown",
   "metadata": {},
   "source": [
    "# Further reading\n",
    "\n",
    "\n",
    "* Python documentation on regular expressions module, https://docs.python.org/2/library/re.html\n",
    "* Python lambda functions: http://www.secnetix.de/olli/Python/lambda_functions.hawk"
   ]
  },
  {
   "cell_type": "code",
   "execution_count": null,
   "metadata": {
    "collapsed": true
   },
   "outputs": [],
   "source": []
  }
 ],
 "metadata": {
  "kernelspec": {
   "display_name": "Python 2",
   "language": "python",
   "name": "python2"
  },
  "language_info": {
   "codemirror_mode": {
    "name": "ipython",
    "version": 2
   },
   "file_extension": ".py",
   "mimetype": "text/x-python",
   "name": "python",
   "nbconvert_exporter": "python",
   "pygments_lexer": "ipython2",
   "version": "2.7.11"
  }
 },
 "nbformat": 4,
 "nbformat_minor": 0
}
